{
 "cells": [
  {
   "cell_type": "markdown",
   "metadata": {},
   "source": [
    "# Ingest vector Data \n",
    "\n",
    "This notebook was added to help test the logic for setting up the vector stores that powers both the natural language semantic search as well as Image semantic search"
   ]
  },
  {
   "cell_type": "code",
   "execution_count": 1,
   "metadata": {},
   "outputs": [],
   "source": [
    "from db.vector_store.set_up_vector_store import vectorize_database"
   ]
  },
  {
   "cell_type": "code",
   "execution_count": 2,
   "metadata": {},
   "outputs": [],
   "source": [
    "# Fetch the products in the database and create a local vector store that can be used to assist the sql queries\n",
    "db = vectorize_database()"
   ]
  },
  {
   "cell_type": "code",
   "execution_count": 3,
   "metadata": {},
   "outputs": [],
   "source": [
    "docs = db.similarity_search('household appliances', 4)"
   ]
  },
  {
   "cell_type": "code",
   "execution_count": 4,
   "metadata": {},
   "outputs": [
    {
     "data": {
      "text/plain": [
       "[{'product_id': 3,\n",
       "  'name': 'LSun King Home 200X Plus Solar Home Light System',\n",
       "  'description': 'Order the Sun King Home 200X Plus with an expandable battery. It comes with 3 tube lights, USB mobile phone charging cable plus a 15 watt solar panel. You can expand its power to charge larger appliances like TVs and fans by purchasing the solar expansion pack and battery. ',\n",
       "  'price': 'N 43,000',\n",
       "  'stock_quantity': 10,\n",
       "  'category_id': 2,\n",
       "  'color_id': 27,\n",
       "  'size_id': 3,\n",
       "  'product_rating': 4.4,\n",
       "  'product_image_url': 'https://ng.jumia.is/unsafe/fit-in/500x500/filters:fill(white)/product/20/755507/5.jpg?9130',\n",
       "  'category': 'Appliance',\n",
       "  'size': 'L',\n",
       "  'color': 'Turquoise'},\n",
       " {'product_id': 8,\n",
       "  'name': 'Harpic Toilet Cleaner: Power Plus Citrus - 450m',\n",
       "  'description': 'Cleaning the toilet is an arduous and often hated house chore that we always have to do. But an effective, reliable, strong and disinfecting toilet cleaner can make a big difference in getting this chore done easily and with quicker results.',\n",
       "  'price': '₦ 1,599',\n",
       "  'stock_quantity': 8,\n",
       "  'category_id': 4,\n",
       "  'color_id': 1,\n",
       "  'size_id': 4,\n",
       "  'product_rating': 3.4,\n",
       "  'product_image_url': 'https://ng.jumia.is/unsafe/fit-in/500x500/filters:fill(white)/product/65/181729/1.jpg?4039',\n",
       "  'category': 'Grocery',\n",
       "  'size': 'M',\n",
       "  'color': 'Fuscia'},\n",
       " {'product_id': 4,\n",
       "  'name': 'Polystar 32-Inches Smart Curved TV With Netflix',\n",
       "  'description': 'POLYSTAR 32 INCH SMART CURVED- Upscalling upgrades FHD signal to near 4k quality to deliver powerful details, allowing viewers to enjoy 4K picture quality even at FHD signal. ',\n",
       "  'price': '₦ 113,900',\n",
       "  'stock_quantity': 10,\n",
       "  'category_id': 2,\n",
       "  'color_id': 1,\n",
       "  'size_id': 3,\n",
       "  'product_rating': 2.4,\n",
       "  'product_image_url': 'https://ng.jumia.is/unsafe/fit-in/500x500/filters:fill(white)/product/65/730317/1.jpg?2455',\n",
       "  'category': 'Appliance',\n",
       "  'size': 'L',\n",
       "  'color': 'Fuscia'},\n",
       " {'product_id': 7,\n",
       "  'name': 'Nestle Golden Morn Grainsmart 900g',\n",
       "  'description': 'Golden Morn contains over 50% of whole grains in each pack and is fortified with essential nutrients such as vitamin A and iron. It provides you with energy for a great start to your day.',\n",
       "  'price': '₦ 2,300',\n",
       "  'stock_quantity': 10,\n",
       "  'category_id': 4,\n",
       "  'color_id': 1,\n",
       "  'size_id': 4,\n",
       "  'product_rating': 3.4,\n",
       "  'product_image_url': 'https://ng.jumia.is/unsafe/fit-in/500x500/filters:fill(white)/product/81/4801812/1.jpg?5814',\n",
       "  'category': 'Grocery',\n",
       "  'size': 'M',\n",
       "  'color': 'Fuscia'}]"
      ]
     },
     "execution_count": 4,
     "metadata": {},
     "output_type": "execute_result"
    }
   ],
   "source": [
    "[d.metadata for d in docs]"
   ]
  },
  {
   "cell_type": "code",
   "execution_count": 5,
   "metadata": {},
   "outputs": [],
   "source": [
    "db.save_local('./ecommerce_index')"
   ]
  },
  {
   "cell_type": "markdown",
   "metadata": {},
   "source": [
    "# Load Data base From local "
   ]
  },
  {
   "cell_type": "code",
   "execution_count": 2,
   "metadata": {},
   "outputs": [],
   "source": [
    "from langchain.embeddings.openai import OpenAIEmbeddings\n",
    "from langchain.vectorstores import FAISS"
   ]
  },
  {
   "cell_type": "code",
   "execution_count": 3,
   "metadata": {},
   "outputs": [],
   "source": [
    "embeddings = OpenAIEmbeddings()"
   ]
  },
  {
   "cell_type": "code",
   "execution_count": 4,
   "metadata": {},
   "outputs": [
    {
     "name": "stdout",
     "output_type": "stream",
     "text": [
      "successfull\n"
     ]
    }
   ],
   "source": [
    "try: \n",
    "    new_db = FAISS.load_local(\"ecommerce_index\", embeddings)\n",
    "    print(\"successfull\")\n",
    "except:\n",
    "    print(\"load failed\")"
   ]
  },
  {
   "cell_type": "code",
   "execution_count": 6,
   "metadata": {},
   "outputs": [],
   "source": [
    "docs = new_db.similarity_search_with_score(\"human hair\", k=5)"
   ]
  },
  {
   "cell_type": "code",
   "execution_count": 7,
   "metadata": {},
   "outputs": [
    {
     "data": {
      "text/plain": [
       "[(Document(page_content='\\n    Name - Ladies Long Straight Hair Weave Middle Part Wigs For Women\\n    description - ,Occassion:Wedding,dating,ceremony,bar, party,daily life decoration cos play ect\\n    category - Fashion\\n    color - Pink\\n    ', metadata={'product_id': 2, 'name': 'Ladies Long Straight Hair Weave Middle Part Wigs For Women', 'description': ',Occassion:Wedding,dating,ceremony,bar, party,daily life decoration cos play ect', 'price': '3,990', 'stock_quantity': 10, 'category_id': 1, 'color_id': 2, 'size_id': 3, 'product_rating': 3.4, 'product_image_url': 'https://ng.jumia.is/unsafe/fit-in/500x500/filters:fill(white)/product/20/755507/5.jpg?9130', 'category': 'Fashion', 'size': 'L', 'color': 'Pink'}),\n",
       "  0.4037702),\n",
       " (Document(page_content='\\n    Name - Harpic Toilet Cleaner: Power Plus Citrus - 450m\\n    description - Cleaning the toilet is an arduous and often hated house chore that we always have to do. But an effective, reliable, strong and disinfecting toilet cleaner can make a big difference in getting this chore done easily and with quicker results.\\n    category - Grocery\\n    color - Fuscia\\n    ', metadata={'product_id': 8, 'name': 'Harpic Toilet Cleaner: Power Plus Citrus - 450m', 'description': 'Cleaning the toilet is an arduous and often hated house chore that we always have to do. But an effective, reliable, strong and disinfecting toilet cleaner can make a big difference in getting this chore done easily and with quicker results.', 'price': '₦ 1,599', 'stock_quantity': 8, 'category_id': 4, 'color_id': 1, 'size_id': 4, 'product_rating': 3.4, 'product_image_url': 'https://ng.jumia.is/unsafe/fit-in/500x500/filters:fill(white)/product/65/181729/1.jpg?4039', 'category': 'Grocery', 'size': 'M', 'color': 'Fuscia'}),\n",
       "  0.5463301),\n",
       " (Document(page_content='\\n    Name - Elegant Women Handbag PU -Red\\n    description - This elegant set bag is classy and easy to carry. So cool for an everyday walk and for parties. Helps a lot in saving phones, keys and some other portable belongings.\\n    category - Fashion\\n    color - Red\\n    ', metadata={'product_id': 11, 'name': 'Elegant Women Handbag PU -Red', 'description': 'This elegant set bag is classy and easy to carry. So cool for an everyday walk and for parties. Helps a lot in saving phones, keys and some other portable belongings.', 'price': '₦ 6,500', 'stock_quantity': 10, 'category_id': 1, 'color_id': 25, 'size_id': 4, 'product_rating': 1.4, 'product_image_url': 'https://ng.jumia.is/unsafe/fit-in/500x500/filters:fill(white)/product/57/838436/1.jpg?4072', 'category': 'Fashion', 'size': 'M', 'color': 'Red'}),\n",
       "  0.5525523),\n",
       " (Document(page_content='\\n    Name - Nestle Golden Morn Grainsmart 900g\\n    description - Golden Morn contains over 50% of whole grains in each pack and is fortified with essential nutrients such as vitamin A and iron. It provides you with energy for a great start to your day.\\n    category - Grocery\\n    color - Fuscia\\n    ', metadata={'product_id': 7, 'name': 'Nestle Golden Morn Grainsmart 900g', 'description': 'Golden Morn contains over 50% of whole grains in each pack and is fortified with essential nutrients such as vitamin A and iron. It provides you with energy for a great start to your day.', 'price': '₦ 2,300', 'stock_quantity': 10, 'category_id': 4, 'color_id': 1, 'size_id': 4, 'product_rating': 3.4, 'product_image_url': 'https://ng.jumia.is/unsafe/fit-in/500x500/filters:fill(white)/product/81/4801812/1.jpg?5814', 'category': 'Grocery', 'size': 'M', 'color': 'Fuscia'}),\n",
       "  0.57326055),\n",
       " (Document(page_content='\\n    Name - Polystar 32-Inches Smart Curved TV With Netflix\\n    description - POLYSTAR 32 INCH SMART CURVED- Upscalling upgrades FHD signal to near 4k quality to deliver powerful details, allowing viewers to enjoy 4K picture quality even at FHD signal. \\n    category - Appliance\\n    color - Fuscia\\n    ', metadata={'product_id': 4, 'name': 'Polystar 32-Inches Smart Curved TV With Netflix', 'description': 'POLYSTAR 32 INCH SMART CURVED- Upscalling upgrades FHD signal to near 4k quality to deliver powerful details, allowing viewers to enjoy 4K picture quality even at FHD signal. ', 'price': '₦ 113,900', 'stock_quantity': 10, 'category_id': 2, 'color_id': 1, 'size_id': 3, 'product_rating': 2.4, 'product_image_url': 'https://ng.jumia.is/unsafe/fit-in/500x500/filters:fill(white)/product/65/730317/1.jpg?2455', 'category': 'Appliance', 'size': 'L', 'color': 'Fuscia'}),\n",
       "  0.5826787)]"
      ]
     },
     "execution_count": 7,
     "metadata": {},
     "output_type": "execute_result"
    }
   ],
   "source": [
    "docs"
   ]
  },
  {
   "cell_type": "code",
   "execution_count": 10,
   "metadata": {},
   "outputs": [],
   "source": [
    "docs = new_db.similarity_search_with_relevance_scores('human hair', k=5)"
   ]
  },
  {
   "cell_type": "code",
   "execution_count": 11,
   "metadata": {},
   "outputs": [
    {
     "data": {
      "text/plain": [
       "[(Document(page_content='\\n    Name - Ladies Long Straight Hair Weave Middle Part Wigs For Women\\n    description - ,Occassion:Wedding,dating,ceremony,bar, party,daily life decoration cos play ect\\n    category - Fashion\\n    color - Pink\\n    ', metadata={'product_id': 2, 'name': 'Ladies Long Straight Hair Weave Middle Part Wigs For Women', 'description': ',Occassion:Wedding,dating,ceremony,bar, party,daily life decoration cos play ect', 'price': '3,990', 'stock_quantity': 10, 'category_id': 1, 'color_id': 2, 'size_id': 3, 'product_rating': 3.4, 'product_image_url': 'https://ng.jumia.is/unsafe/fit-in/500x500/filters:fill(white)/product/20/755507/5.jpg?9130', 'category': 'Fashion', 'size': 'L', 'color': 'Pink'}),\n",
       "  0.7144913476284123),\n",
       " (Document(page_content='\\n    Name - Harpic Toilet Cleaner: Power Plus Citrus - 450m\\n    description - Cleaning the toilet is an arduous and often hated house chore that we always have to do. But an effective, reliable, strong and disinfecting toilet cleaner can make a big difference in getting this chore done easily and with quicker results.\\n    category - Grocery\\n    color - Fuscia\\n    ', metadata={'product_id': 8, 'name': 'Harpic Toilet Cleaner: Power Plus Citrus - 450m', 'description': 'Cleaning the toilet is an arduous and often hated house chore that we always have to do. But an effective, reliable, strong and disinfecting toilet cleaner can make a big difference in getting this chore done easily and with quicker results.', 'price': '₦ 1,599', 'stock_quantity': 8, 'category_id': 4, 'color_id': 1, 'size_id': 4, 'product_rating': 3.4, 'product_image_url': 'https://ng.jumia.is/unsafe/fit-in/500x500/filters:fill(white)/product/65/181729/1.jpg?4039', 'category': 'Grocery', 'size': 'M', 'color': 'Fuscia'}),\n",
       "  0.6136862855276934),\n",
       " (Document(page_content='\\n    Name - Elegant Women Handbag PU -Red\\n    description - This elegant set bag is classy and easy to carry. So cool for an everyday walk and for parties. Helps a lot in saving phones, keys and some other portable belongings.\\n    category - Fashion\\n    color - Red\\n    ', metadata={'product_id': 11, 'name': 'Elegant Women Handbag PU -Red', 'description': 'This elegant set bag is classy and easy to carry. So cool for an everyday walk and for parties. Helps a lot in saving phones, keys and some other portable belongings.', 'price': '₦ 6,500', 'stock_quantity': 10, 'category_id': 1, 'color_id': 25, 'size_id': 4, 'product_rating': 1.4, 'product_image_url': 'https://ng.jumia.is/unsafe/fit-in/500x500/filters:fill(white)/product/57/838436/1.jpg?4072', 'category': 'Fashion', 'size': 'M', 'color': 'Red'}),\n",
       "  0.6092865338647927),\n",
       " (Document(page_content='\\n    Name - Nestle Golden Morn Grainsmart 900g\\n    description - Golden Morn contains over 50% of whole grains in each pack and is fortified with essential nutrients such as vitamin A and iron. It provides you with energy for a great start to your day.\\n    category - Grocery\\n    color - Fuscia\\n    ', metadata={'product_id': 7, 'name': 'Nestle Golden Morn Grainsmart 900g', 'description': 'Golden Morn contains over 50% of whole grains in each pack and is fortified with essential nutrients such as vitamin A and iron. It provides you with energy for a great start to your day.', 'price': '₦ 2,300', 'stock_quantity': 10, 'category_id': 4, 'color_id': 1, 'size_id': 4, 'product_rating': 3.4, 'product_image_url': 'https://ng.jumia.is/unsafe/fit-in/500x500/filters:fill(white)/product/81/4801812/1.jpg?5814', 'category': 'Grocery', 'size': 'M', 'color': 'Fuscia'}),\n",
       "  0.5946435807271984),\n",
       " (Document(page_content='\\n    Name - Polystar 32-Inches Smart Curved TV With Netflix\\n    description - POLYSTAR 32 INCH SMART CURVED- Upscalling upgrades FHD signal to near 4k quality to deliver powerful details, allowing viewers to enjoy 4K picture quality even at FHD signal. \\n    category - Appliance\\n    color - Fuscia\\n    ', metadata={'product_id': 4, 'name': 'Polystar 32-Inches Smart Curved TV With Netflix', 'description': 'POLYSTAR 32 INCH SMART CURVED- Upscalling upgrades FHD signal to near 4k quality to deliver powerful details, allowing viewers to enjoy 4K picture quality even at FHD signal. ', 'price': '₦ 113,900', 'stock_quantity': 10, 'category_id': 2, 'color_id': 1, 'size_id': 3, 'product_rating': 2.4, 'product_image_url': 'https://ng.jumia.is/unsafe/fit-in/500x500/filters:fill(white)/product/65/730317/1.jpg?2455', 'category': 'Appliance', 'size': 'L', 'color': 'Fuscia'}),\n",
       "  0.587983957193992)]"
      ]
     },
     "execution_count": 11,
     "metadata": {},
     "output_type": "execute_result"
    }
   ],
   "source": [
    "docs"
   ]
  },
  {
   "cell_type": "code",
   "execution_count": 8,
   "metadata": {},
   "outputs": [
    {
     "data": {
      "text/plain": [
       "[{'product_id': 2,\n",
       "  'name': 'Ladies Long Straight Hair Weave Middle Part Wigs For Women',\n",
       "  'description': ',Occassion:Wedding,dating,ceremony,bar, party,daily life decoration cos play ect',\n",
       "  'price': '3,990',\n",
       "  'stock_quantity': 10,\n",
       "  'category_id': 1,\n",
       "  'color_id': 2,\n",
       "  'size_id': 3,\n",
       "  'product_rating': 3.4,\n",
       "  'product_image_url': 'https://ng.jumia.is/unsafe/fit-in/500x500/filters:fill(white)/product/20/755507/5.jpg?9130',\n",
       "  'category': 'Fashion',\n",
       "  'size': 'L',\n",
       "  'color': 'Pink'}]"
      ]
     },
     "execution_count": 8,
     "metadata": {},
     "output_type": "execute_result"
    }
   ],
   "source": [
    "[ d.metadata for d, score in docs if score > 0.7]"
   ]
  },
  {
   "cell_type": "code",
   "execution_count": null,
   "metadata": {},
   "outputs": [],
   "source": []
  }
 ],
 "metadata": {
  "kernelspec": {
   "display_name": "env",
   "language": "python",
   "name": "python3"
  },
  "language_info": {
   "codemirror_mode": {
    "name": "ipython",
    "version": 3
   },
   "file_extension": ".py",
   "mimetype": "text/x-python",
   "name": "python",
   "nbconvert_exporter": "python",
   "pygments_lexer": "ipython3",
   "version": "3.11.6"
  }
 },
 "nbformat": 4,
 "nbformat_minor": 2
}
