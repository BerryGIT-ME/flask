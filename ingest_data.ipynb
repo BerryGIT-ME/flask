{
 "cells": [
  {
   "cell_type": "markdown",
   "metadata": {},
   "source": [
    "# Ingest vector Data \n",
    "\n",
    "This notebook was added to help test the logic for setting up the vector stores that powers both the natural language semantic search as well as Image semantic search"
   ]
  },
  {
   "cell_type": "code",
   "execution_count": null,
   "metadata": {},
   "outputs": [],
   "source": [
    "from db.vector_store.set_up_vector_store import vectorize_database"
   ]
  },
  {
   "cell_type": "code",
   "execution_count": null,
   "metadata": {},
   "outputs": [],
   "source": [
    "# Fetch the products in the database and create a local vector store that can be used to assist the sql queries\n",
    "db = vectorize_database()"
   ]
  },
  {
   "cell_type": "code",
   "execution_count": null,
   "metadata": {},
   "outputs": [],
   "source": [
    "docs = db.similarity_search('household appliances', 2)"
   ]
  },
  {
   "cell_type": "code",
   "execution_count": null,
   "metadata": {},
   "outputs": [],
   "source": [
    "[d.metadata for d in docs]"
   ]
  },
  {
   "cell_type": "code",
   "execution_count": null,
   "metadata": {},
   "outputs": [],
   "source": [
    "db.save_local('./ecommerce_index')"
   ]
  },
  {
   "cell_type": "markdown",
   "metadata": {},
   "source": [
    "# Load Data base From local "
   ]
  },
  {
   "cell_type": "code",
   "execution_count": null,
   "metadata": {},
   "outputs": [],
   "source": [
    "from langchain.embeddings.openai import OpenAIEmbeddings\n",
    "from langchain.vectorstores import FAISS"
   ]
  },
  {
   "cell_type": "code",
   "execution_count": null,
   "metadata": {},
   "outputs": [],
   "source": [
    "embeddings = OpenAIEmbeddings()\n",
    "\n",
    "try: \n",
    "    new_db = FAISS.load_local(\"ecommerce_index\", embeddings)\n",
    "    print(\"successfull\")\n",
    "except:\n",
    "    print(\"load failed\")\n",
    "\n",
    "docs = new_db.similarity_search_with_relevance_scores('human hair', k=5)"
   ]
  },
  {
   "cell_type": "code",
   "execution_count": null,
   "metadata": {},
   "outputs": [],
   "source": [
    "[ d.metadata for d, score in docs if score > 0.7]"
   ]
  },
  {
   "cell_type": "markdown",
   "metadata": {},
   "source": [
    "# Ingest images"
   ]
  },
  {
   "cell_type": "code",
   "execution_count": 1,
   "metadata": {},
   "outputs": [
    {
     "name": "stderr",
     "output_type": "stream",
     "text": [
      "/Users/ikechukwu/Desktop/Hackerton/flask/env/lib/python3.11/site-packages/tqdm/auto.py:21: TqdmWarning: IProgress not found. Please update jupyter and ipywidgets. See https://ipywidgets.readthedocs.io/en/stable/user_install.html\n",
      "  from .autonotebook import tqdm as notebook_tqdm\n"
     ]
    }
   ],
   "source": [
    "from db.vector_store.set_up_vector_store import (vectorize_db_images, \n",
    "                                                 get_image_vector_from_file,\n",
    "                                                 get_similarity)\n",
    "import pandas as pd"
   ]
  },
  {
   "cell_type": "code",
   "execution_count": null,
   "metadata": {},
   "outputs": [],
   "source": [
    "merged_products, data = vectorize_db_images()"
   ]
  },
  {
   "cell_type": "code",
   "execution_count": null,
   "metadata": {},
   "outputs": [],
   "source": [
    "merged_products.to_pickle('./images_index/product_map.pkl')\n",
    "pd.DataFrame(data).to_pickle('./images_index/image_embeddings.pkl')"
   ]
  },
  {
   "cell_type": "markdown",
   "metadata": {},
   "source": [
    "# Load index from local"
   ]
  },
  {
   "cell_type": "code",
   "execution_count": 2,
   "metadata": {},
   "outputs": [],
   "source": [
    "merged_products = pd.read_pickle('./images_index/product_map.pkl')\n",
    "embeddings = pd.read_pickle('./images_index/image_embeddings.pkl').T"
   ]
  },
  {
   "cell_type": "code",
   "execution_count": 3,
   "metadata": {},
   "outputs": [],
   "source": [
    "test_image_path = './images/computer.jpeg'\n",
    "test_image_embeddings = get_image_vector_from_file(test_image_path)"
   ]
  },
  {
   "cell_type": "code",
   "execution_count": 4,
   "metadata": {},
   "outputs": [],
   "source": [
    "ids = get_similarity(embeddings, test_image_embeddings, 3)"
   ]
  },
  {
   "cell_type": "code",
   "execution_count": 9,
   "metadata": {},
   "outputs": [
    {
     "data": {
      "text/plain": [
       "[{'product_id': 4,\n",
       "  'name': 'Polystar 32-Inches Smart Curved TV With Netflix',\n",
       "  'description': 'POLYSTAR 32 INCH SMART CURVED- Upscalling upgrades FHD signal to near 4k quality to deliver powerful details, allowing viewers to enjoy 4K picture quality even at FHD signal. ',\n",
       "  'price': '₦ 113,900',\n",
       "  'stock_quantity': 10,\n",
       "  'category_id': 2,\n",
       "  'color_id': 1,\n",
       "  'size_id': 3,\n",
       "  'product_rating': 2.4,\n",
       "  'product_image_url': 'https://ng.jumia.is/unsafe/fit-in/500x500/filters:fill(white)/product/65/730317/1.jpg?2455',\n",
       "  'category': 'Appliance',\n",
       "  'size': 'L',\n",
       "  'color': 'Fuscia'},\n",
       " {'product_id': 16,\n",
       "  'name': 'Samsung Galaxy Tab A7 Lite 8.7\" TFT 3GB RAM/32GB ROM Android 11 - Gray',\n",
       "  'description': 'Scanfrost Mist Rechargeable Fan with Remote 16\" - SFRF161K is a new product from Scanfrost.  ',\n",
       "  'price': '₦ 152,889',\n",
       "  'stock_quantity': 18,\n",
       "  'category_id': 3,\n",
       "  'color_id': 50,\n",
       "  'size_id': 4,\n",
       "  'product_rating': 4.5,\n",
       "  'product_image_url': 'https://ng.jumia.is/unsafe/fit-in/500x500/filters:fill(white)/product/96/2257791/1.jpg?8155',\n",
       "  'category': 'Phones & Tablets',\n",
       "  'size': 'M',\n",
       "  'color': 'Purple'}]"
      ]
     },
     "execution_count": 9,
     "metadata": {},
     "output_type": "execute_result"
    }
   ],
   "source": [
    "results = merged_products[merged_products['product_id'].isin(ids)]\n",
    "[v for k,v in results.T.to_dict().items()]"
   ]
  },
  {
   "cell_type": "code",
   "execution_count": null,
   "metadata": {},
   "outputs": [],
   "source": []
  }
 ],
 "metadata": {
  "kernelspec": {
   "display_name": "env",
   "language": "python",
   "name": "python3"
  },
  "language_info": {
   "codemirror_mode": {
    "name": "ipython",
    "version": 3
   },
   "file_extension": ".py",
   "mimetype": "text/x-python",
   "name": "python",
   "nbconvert_exporter": "python",
   "pygments_lexer": "ipython3",
   "version": "3.11.6"
  }
 },
 "nbformat": 4,
 "nbformat_minor": 2
}
